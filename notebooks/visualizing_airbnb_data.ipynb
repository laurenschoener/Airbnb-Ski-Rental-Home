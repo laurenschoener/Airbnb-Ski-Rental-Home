{
 "cells": [
  {
   "cell_type": "code",
   "execution_count": 1,
   "metadata": {},
   "outputs": [],
   "source": [
    "from bs4 import BeautifulSoup\n",
    "from selenium import webdriver\n",
    "import pandas as pd\n",
    "import numpy as np\n",
    "import time\n",
    "import requests\n",
    "import re\n",
    "from sklearn.feature_extraction.text import CountVectorizer\n",
    "from joblib import Parallel, delayed"
   ]
  },
  {
   "cell_type": "code",
   "execution_count": 9,
   "metadata": {},
   "outputs": [],
   "source": [
    "#All URLs I would like to include:\n",
    "breckinridge = 'https://www.airbnb.com/s/Breckenridge--CO/homes?adults=1&place_id=ChIJwecmbD32aocReqKAZn-PjWI&refinement_paths%5B%5D=%2Fhomes'\n",
    "parkcity = 'https://www.airbnb.com/s/Park-City--UT/homes?adults=1&place_id=ChIJ_QNjLGMPUocRlFc3Jd_Ecdg&refinement_paths%5B%5D=%2Fhomes'\n",
    "jacksonhole = 'https://www.airbnb.com/s/Jackson-Hole--WY/homes?adults=1&place_id=ChIJS3_P_FgaU1MRXIM6scsBHD0&refinement_paths%5B%5D=%2Fhomes'\n",
    "vail = 'https://www.airbnb.com/s/Vail--CO/homes?adults=1&place_id=ChIJB89dUQVwaocRxKOafh_AzMk&refinement_paths%5B%5D=%2Fhomes'\n",
    "steamboat = 'https://www.airbnb.com/s/Steamboat-Springs--CO/homes?adults=1&place_id=ChIJYUZWCYF7QocRfc9uSNGjqBs&refinement_paths%5B%5D=%2Fhomes'\n",
    "bigsky = 'https://www.airbnb.com/s/Big-Sky--MT/homes?adults=1&place_id=ChIJNSw3_WUOUFMRyiuLqjtx-JU&refinement_paths%5B%5D=%2Fhomes'\n",
    "telluride = 'https://www.airbnb.com/s/Telluride--CO/homes?adults=1&place_id=ChIJc_TmcHvYPocR4eO6cSF37jg&refinement_paths%5B%5D=%2Fhomes'\n",
    "aspen = 'https://www.airbnb.com/s/Aspen--CO/homes?adults=1&place_id=ChIJfTxB93w5QIcRcvYseNxCK8E&refinement_paths%5B%5D=%2Fhomes'\n",
    "tahoe = 'https://www.airbnb.com/s/Lake-Tahoe/homes?adults=1&place_id=ChIJUREfuaF4mYARILWv7q8fP4w&refinement_paths%5B%5D=%2Fhomes'\n",
    "taos = 'https://www.airbnb.com/s/Taos--NM/homes?adults=1&place_id=ChIJsfwRf9pkF4cRgrepYYOR6pA&refinement_paths%5B%5D=%2Fhomes'"
   ]
  },
  {
   "cell_type": "code",
   "execution_count": 12,
   "metadata": {},
   "outputs": [],
   "source": [
    "url_lst = [breckinridge, parkcity, jacksonhole, vail, steamboat, bigsky, telluride, aspen, tahoe, taos]"
   ]
  },
  {
   "cell_type": "code",
   "execution_count": 27,
   "metadata": {},
   "outputs": [],
   "source": [
    "for url in url_lst:\n",
    "    soupPage = getPage(url)\n",
    "    listing_lst = getRoomClasses(soupPage)\n",
    "    for listing in listing_lst:\n",
    "        getListingLink(listing)"
   ]
  },
  {
   "cell_type": "code",
   "execution_count": 50,
   "metadata": {},
   "outputs": [],
   "source": [
    "def getPage(url):\n",
    "    result = requests.get(url)\n",
    "    content = result.content\n",
    "    BeautifulSoup(content, features = \"lxml\")\n",
    "    return BeautifulSoup(content, features = \"lxml\")"
   ]
  },
  {
   "cell_type": "code",
   "execution_count": 5,
   "metadata": {},
   "outputs": [],
   "source": [
    "#Information on different listings is shown with an image and information under the class '_8ssblpx'\n",
    "def getRoomClasses(soupPage):\n",
    "    rooms = soupPage.findAll(\"div\", {\"class\": \"_8ssblpx\"})\n",
    "    result = []\n",
    "    for room in rooms:\n",
    "        result.append(room)\n",
    "    return result"
   ]
  },
  {
   "cell_type": "code",
   "execution_count": 21,
   "metadata": {},
   "outputs": [],
   "source": [
    "def getListingLink(listing):\n",
    "    return \"http://airbnb.com\" + listing.find(\"a\")[\"href\"]"
   ]
  },
  {
   "cell_type": "code",
   "execution_count": 28,
   "metadata": {},
   "outputs": [],
   "source": [
    "def getListingTitle(listing):\n",
    "    return listing.find(\"meta\")[\"content\"]"
   ]
  },
  {
   "cell_type": "code",
   "execution_count": 29,
   "metadata": {},
   "outputs": [],
   "source": [
    "def getTopRow(listing):\n",
    "    return listing.find(\"div\", {\"class\": \"_167qordg\"}).text"
   ]
  },
  {
   "cell_type": "code",
   "execution_count": 30,
   "metadata": {},
   "outputs": [],
   "source": [
    "def getRoomInfo(listing):\n",
    "    return listing.find(\"div\", {\"class\": \"_kqh46o\"}).text"
   ]
  },
  {
   "cell_type": "code",
   "execution_count": 31,
   "metadata": {},
   "outputs": [],
   "source": [
    "def getBasicFacilities(listing):\n",
    "    try:\n",
    "        output = listing.findAll(\"div\", {\"class\": \"_kqh46o\"})[1].text.replace(\" \",\"\")\n",
    "    except:\n",
    "        output = []\n",
    "    return output"
   ]
  },
  {
   "cell_type": "code",
   "execution_count": 32,
   "metadata": {},
   "outputs": [],
   "source": [
    "def getListingPrice(listing):\n",
    "    return listing.find(\"div\", {\"class\": \"1fwiw8gv\"}).text"
   ]
  },
  {
   "cell_type": "code",
   "execution_count": 33,
   "metadata": {},
   "outputs": [],
   "source": [
    "def getListingRating(listing):\n",
    "    return listing.find(\"span\", {\"class\": \"_krjbj\"}).text"
   ]
  },
  {
   "cell_type": "code",
   "execution_count": 36,
   "metadata": {},
   "outputs": [],
   "source": [
    "def getListingReviewNumber(listing):\n",
    "    try:\n",
    "        output = listing.findAll(\"span\", {\"class\": \"_krjbj\"})[1].text\n",
    "    except:\n",
    "        output = -1\n",
    "    return output"
   ]
  },
  {
   "cell_type": "code",
   "execution_count": 37,
   "metadata": {},
   "outputs": [],
   "source": [
    "def extractInformation(soupPage):\n",
    "    listings = getRoomClasses(soupPage)\n",
    "    titles, links, toprows, roominfo, basicfacilities, prices, ratings, reviews = [], [], [], [], [], [], [], []\n",
    "    for listing in listings:\n",
    "        titles.append(getListingTitle(listing))\n",
    "        links.append(getListingLink(listing))\n",
    "        toprows.append(getListingLink(listing))\n",
    "        roominfo.append(getListingLink(listing))\n",
    "        basicfacilities.append(getListingLink(listing))\n",
    "        prices.append(getListingLink(listing))\n",
    "        ratings.append(getListingLink(listing))\n",
    "        reviews.append(getListingLink(listing))\n",
    "    dictionary = {\"title\": titles, \"toprow\": toprows, \"roominfo\": roominfo, \"facilities\": basicfacilities, \"price\": prices, \"rating\": ratings, \"link\": links, \"review\": reviews}\n",
    "    return pd.DataFrame(dictionary)"
   ]
  },
  {
   "cell_type": "code",
   "execution_count": 38,
   "metadata": {},
   "outputs": [],
   "source": [
    "def findNextPage(soupPage):\n",
    "    try:\n",
    "        nextpage = \"https://airbnb.com\" + soupPage.find(\"li\", {\"class\": \"_i66xk8d\"}).find(\"a\")[\"href\"]\n",
    "    except:\n",
    "        nextpage = \"no next page\"\n",
    "    return nextpage"
   ]
  },
  {
   "cell_type": "code",
   "execution_count": 39,
   "metadata": {},
   "outputs": [],
   "source": [
    "def getPages(url):\n",
    "    result = []\n",
    "    while url != \"no next page\":\n",
    "        page = getPage(url)\n",
    "        result = result + [page]\n",
    "        url = findNextPage(page)\n",
    "    return result"
   ]
  },
  {
   "cell_type": "code",
   "execution_count": 40,
   "metadata": {},
   "outputs": [],
   "source": [
    "def extractPages(url):\n",
    "    pages = getPages(url)\n",
    "    df = extractInformation(pages[0])\n",
    "    for pagenumber in range(1, len(pages)):\n",
    "        df = df.append(extractInformation(pages[pagenumber]))\n",
    "    return df"
   ]
  },
  {
   "cell_type": "code",
   "execution_count": 41,
   "metadata": {},
   "outputs": [],
   "source": [
    "url_lst = [[\"Breckinridge\",breckinridge], \n",
    "           [\"Park City\", parkcity],\n",
    "           [\"Jacksonhole\", jacksonhole],\n",
    "           [\"Vail\", vail], \n",
    "           [\"Steamboat Springs\", steamboat],\n",
    "           [\"Big Sky\", bigsky],\n",
    "           [\"Telluride\", telluride],\n",
    "           [\"Aspen\", aspen],\n",
    "           [\"Lake Tahoe\", tahoe],\n",
    "           [\"Taos\", taos]]"
   ]
  },
  {
   "cell_type": "code",
   "execution_count": 45,
   "metadata": {},
   "outputs": [],
   "source": [
    "def scrapeURLs(listofURLs):\n",
    "    print(listofURLs[0][0])\n",
    "    df - extractPages(listofURLs[0][1])\n",
    "    df.loc[:, \"city\"] = listofURLs[0][0]\n",
    "    for i in range(1, len(listofURLs)):\n",
    "        print(listofURLs[i][0])\n",
    "        newrows = extractPages(listofURLs[i][1])\n",
    "        newrows.loc[:, \"city\"] = listofURLs[i][0]\n",
    "        df = df.append(newrows)\n",
    "    return df"
   ]
  },
  {
   "cell_type": "code",
   "execution_count": 46,
   "metadata": {},
   "outputs": [],
   "source": [
    "def getDescription(detailpage):\n",
    "    return detailpage.find(\"div\",{\"class\": \"_eeq7h0\"}).text"
   ]
  },
  {
   "cell_type": "code",
   "execution_count": 47,
   "metadata": {},
   "outputs": [],
   "source": [
    "def getDetailedScores(detailpage):\n",
    "    output = []\n",
    "    scores = detailpage.findAll(class_ = '_a3qxec')\n",
    "    try:\n",
    "        for i in range(0, 6):\n",
    "            split = scores[i].text.split(\".\")\n",
    "            output.append(float(split[0][-1] + \".\" + split[1]))\n",
    "    except:\n",
    "        pass\n",
    "    return output"
   ]
  },
  {
   "cell_type": "code",
   "execution_count": 48,
   "metadata": {},
   "outputs": [],
   "source": [
    "def getHostInfo(detailpage):\n",
    "    return detailpage.find(class_ = \"_f47qa6\").text"
   ]
  },
  {
   "cell_type": "code",
   "execution_count": 49,
   "metadata": {},
   "outputs": [],
   "source": [
    "def setupDriver(url, waiting_time = 2.5):\n",
    "    driver = webdriver.Chrome()\n",
    "    driver.get(url)\n",
    "    time.sleep(waiting_time)\n",
    "    return driver"
   ]
  },
  {
   "cell_type": "code",
   "execution_count": 51,
   "metadata": {},
   "outputs": [],
   "source": [
    "def getJSpage(url):\n",
    "    driver = setupDriver(url)\n",
    "    read_more_buttons = driver.find_elements_by_class_name(\"_1d079j1e\")\n",
    "    try:\n",
    "        for i in range(2, len(read_more_buttons)):\n",
    "            read_more_buttons[i].click()\n",
    "    except:\n",
    "        pass\n",
    "    html = driver.page_source\n",
    "    driver.close()\n",
    "    return BeautifulSoup(html, features = \"lxml\")"
   ]
  },
  {
   "cell_type": "code",
   "execution_count": 52,
   "metadata": {},
   "outputs": [],
   "source": [
    "def getAmenitiesPage(detailpage):\n",
    "    \n",
    "    link = detailpage.find(class_ = \"_1v4ygly5\")[\"href\"]\n",
    "    driver = setupDriver(\"https://airbnb.com\" + link, 5)\n",
    "    html = driver.page_source\n",
    "    driver.close()\n",
    "    return BeautifulSoup(html, features = \"lxml\")"
   ]
  },
  {
   "cell_type": "code",
   "execution_count": 53,
   "metadata": {},
   "outputs": [],
   "source": [
    "first = True\n",
    "scraped = 0\n",
    "def getAddis(url):\n",
    "    global first\n",
    "    global scraped\n",
    "    output = pd.DataFrame(columns=[\"details_page\", \"amenities_page\", \"link\"])\n",
    "    try:\n",
    "        dp = getJSpage(url)\n",
    "        output.loc[0] = [dp, getAmenitiesPage(dp), url]\n",
    "    except:\n",
    "        output.loc[0] = [-1, -1, url]\n",
    "    if first:\n",
    "        output.to_csv('intermediate_results_par.csv', mode='a', header=True, index=False)\n",
    "        first = False\n",
    "    else:\n",
    "        output.to_csv('intermediate_results_par.csv', mode='a', header=False, index=False)\n",
    "    scraped += 1\n",
    "    print(\"Scraped: {}\".format(scraped))"
   ]
  },
  {
   "cell_type": "code",
   "execution_count": 54,
   "metadata": {},
   "outputs": [],
   "source": [
    "def getReviews(detailpage):\n",
    "    reviews = detailpage.findAll(class_ = \"_50mnu4\")\n",
    "    output = \"\"\n",
    "    for review in reviews:\n",
    "        output += review.text + \"**-**\"\n",
    "    return output"
   ]
  },
  {
   "cell_type": "code",
   "execution_count": 55,
   "metadata": {},
   "outputs": [],
   "source": [
    "def getAmenities(amenitiespage):\n",
    "    amenities = amenitiespage.findAll(class_ = \"_vzrbjl\")\n",
    "    output = \"\"\n",
    "    for amenity in amenities:\n",
    "        output += re.findall('[A-Z][^A-Z]*', amenity.text)[0] + \"**-**\"\n",
    "    return output"
   ]
  },
  {
   "cell_type": "code",
   "execution_count": 56,
   "metadata": {},
   "outputs": [],
   "source": [
    "def getResponseInfo(detailpage):\n",
    "    try:\n",
    "        output = detailpage.find(class_ = \"_jofnfy\").text\n",
    "    except:\n",
    "        output = \"\"\n",
    "    return output"
   ]
  },
  {
   "cell_type": "code",
   "execution_count": 57,
   "metadata": {},
   "outputs": [],
   "source": [
    "def cleanFacilities(df):\n",
    "    df.loc[:, \"facilities\"] = df[\"facilities\"].astype(str).str.replace(\"[\",\"\").str.replace(\"]\",\"\")\n",
    "    vectorizer = CountVectorizer(decode_error = \"ignore\")\n",
    "    X = vectorizer.fit_transform(df.facilities)\n",
    "    bag_of_words = pd.DataFrame(X.toarray(), columns=vectorizer.get_features_names())\n",
    "    return pd.concat([df.reset_index(drop=True).drop(\"facilities\", axis=1), bag_of_words], axis=1)"
   ]
  },
  {
   "cell_type": "code",
   "execution_count": 58,
   "metadata": {},
   "outputs": [],
   "source": [
    "def cleanTitle(df):\n",
    "    df.loc[:, \"name\"] = df[\"title\"].str.split(\" null \", n=0, expand=True)[0].str.replace(\"-\", \"\")\n",
    "    df.loc[:, \"location\"] = df[\"title\"].str.split(\" null \", n=0, expand=True)[1].str.replace(\"-\",\"\").str.strip()\n",
    "    return df.drop(\"title\", axis=1)"
   ]
  },
  {
   "cell_type": "code",
   "execution_count": 59,
   "metadata": {},
   "outputs": [],
   "source": [
    "def cleanTopRow(df):\n",
    "    df.loc[:, 'roomtype'] = df[\"toprow\"].str.split(\" in \", n=0, expand=True)[0]\n",
    "    df.loc[:, 'detailed_location'] = df[\"toprow\"].str.split(\" in \", n=0, expand=True)[1]\n",
    "    return df.drop(\"toprow\", axis=1)"
   ]
  },
  {
   "cell_type": "code",
   "execution_count": null,
   "metadata": {},
   "outputs": [],
   "source": [
    "def cleanRoomInfo(df):\n",
    "    df.loc[:, \"guests\"] = df.loc[:, \"roominfo\"].str.split(\" . \", n=0, expand=True)[0].str.replace(\"guests\", \"\")\n",
    "    df.loc"
   ]
  }
 ],
 "metadata": {
  "kernelspec": {
   "display_name": "Python 3",
   "language": "python",
   "name": "python3"
  },
  "language_info": {
   "codemirror_mode": {
    "name": "ipython",
    "version": 3
   },
   "file_extension": ".py",
   "mimetype": "text/x-python",
   "name": "python",
   "nbconvert_exporter": "python",
   "pygments_lexer": "ipython3",
   "version": "3.7.7"
  }
 },
 "nbformat": 4,
 "nbformat_minor": 4
}
